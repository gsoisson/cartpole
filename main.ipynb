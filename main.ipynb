{
 "cells": [
  {
   "cell_type": "markdown",
   "metadata": {},
   "source": [
    "### Import Packages"
   ]
  },
  {
   "cell_type": "code",
   "execution_count": 1,
   "metadata": {},
   "outputs": [],
   "source": [
    "import gym\n",
    "from gym.envs.classic_control import CartPoleEnv\n",
    "from gym import logger\n",
    "import inspect\n",
    "import numpy as np\n",
    "import math\n",
    "\n",
    "import torch\n",
    "from torch import nn\n",
    "import torch.nn.functional as F\n",
    "from torch.optim import AdamW\n",
    "\n",
    "import random\n",
    "from collections import deque, namedtuple\n",
    "import time\n",
    "import utils"
   ]
  },
  {
   "cell_type": "markdown",
   "metadata": {},
   "source": [
    "### Load the environment"
   ]
  },
  {
   "cell_type": "code",
   "execution_count": 2,
   "metadata": {},
   "outputs": [],
   "source": [
    "env = gym.make('CartPole-v1', render_mode='human')\n",
    "env.reset()\n",
    "env.render()"
   ]
  },
  {
   "cell_type": "code",
   "execution_count": 3,
   "metadata": {},
   "outputs": [
    {
     "name": "stdout",
     "output_type": "stream",
     "text": [
      "State Shape: (4,)\n",
      "Number of actions: 2\n"
     ]
    }
   ],
   "source": [
    "state_size = env.observation_space.shape\n",
    "num_actions = env.action_space.n\n",
    "\n",
    "print('State Shape:', state_size)\n",
    "print('Number of actions:', num_actions)"
   ]
  },
  {
   "cell_type": "markdown",
   "metadata": {},
   "source": [
    "![CartPole](cartpole.png)"
   ]
  },
  {
   "cell_type": "markdown",
   "metadata": {},
   "source": [
    "Play with it !"
   ]
  },
  {
   "cell_type": "code",
   "execution_count": 4,
   "metadata": {},
   "outputs": [
    {
     "name": "stderr",
     "output_type": "stream",
     "text": [
      "/Users/guillaume/.venvs/cartpole/lib/python3.11/site-packages/gym/utils/passive_env_checker.py:233: DeprecationWarning: `np.bool8` is a deprecated alias for `np.bool_`.  (Deprecated NumPy 1.24)\n",
      "  if not isinstance(terminated, (bool, np.bool8)):\n"
     ]
    },
    {
     "data": {
      "text/plain": [
       "(array([ 0.04870562, -0.19331443,  0.03442156,  0.28032973], dtype=float32),\n",
       " 1.0,\n",
       " False,\n",
       " False,\n",
       " {})"
      ]
     },
     "execution_count": 4,
     "metadata": {},
     "output_type": "execute_result"
    }
   ],
   "source": [
    "env.step(0)"
   ]
  },
  {
   "cell_type": "code",
   "execution_count": 5,
   "metadata": {},
   "outputs": [
    {
     "data": {
      "text/plain": [
       "(array([-0.00438805,  0.03440112,  0.02070856,  0.00516065], dtype=float32),\n",
       " {})"
      ]
     },
     "execution_count": 5,
     "metadata": {},
     "output_type": "execute_result"
    }
   ],
   "source": [
    "env.reset()"
   ]
  },
  {
   "cell_type": "code",
   "execution_count": 6,
   "metadata": {},
   "outputs": [],
   "source": [
    "env.close()"
   ]
  },
  {
   "cell_type": "markdown",
   "metadata": {},
   "source": [
    "### Add (a) a custom action that does nothing and (b) a cost for actions that move the carter"
   ]
  },
  {
   "cell_type": "markdown",
   "metadata": {},
   "source": [
    "For (a) we simply need to add an action that does exatcly the same thing as the other two except that it doesn't update $x$ and $\\dot{x}$ in self.state.\n",
    "\n",
    "For (b) we substract a small constant value to the reward every time we push or pull the carter."
   ]
  },
  {
   "cell_type": "code",
   "execution_count": 7,
   "metadata": {},
   "outputs": [
    {
     "name": "stdout",
     "output_type": "stream",
     "text": [
      "    def step(self, action):\n",
      "        err_msg = f\"{action!r} ({type(action)}) invalid\"\n",
      "        assert self.action_space.contains(action), err_msg\n",
      "        assert self.state is not None, \"Call reset before using step method.\"\n",
      "        x, x_dot, theta, theta_dot = self.state\n",
      "        force = self.force_mag if action == 1 else -self.force_mag\n",
      "        costheta = math.cos(theta)\n",
      "        sintheta = math.sin(theta)\n",
      "\n",
      "        # For the interested reader:\n",
      "        # https://coneural.org/florian/papers/05_cart_pole.pdf\n",
      "        temp = (\n",
      "            force + self.polemass_length * theta_dot**2 * sintheta\n",
      "        ) / self.total_mass\n",
      "        thetaacc = (self.gravity * sintheta - costheta * temp) / (\n",
      "            self.length * (4.0 / 3.0 - self.masspole * costheta**2 / self.total_mass)\n",
      "        )\n",
      "        xacc = temp - self.polemass_length * thetaacc * costheta / self.total_mass\n",
      "\n",
      "        if self.kinematics_integrator == \"euler\":\n",
      "            x = x + self.tau * x_dot\n",
      "            x_dot = x_dot + self.tau * xacc\n",
      "            theta = theta + self.tau * theta_dot\n",
      "            theta_dot = theta_dot + self.tau * thetaacc\n",
      "        else:  # semi-implicit euler\n",
      "            x_dot = x_dot + self.tau * xacc\n",
      "            x = x + self.tau * x_dot\n",
      "            theta_dot = theta_dot + self.tau * thetaacc\n",
      "            theta = theta + self.tau * theta_dot\n",
      "\n",
      "        self.state = (x, x_dot, theta, theta_dot)\n",
      "\n",
      "        terminated = bool(\n",
      "            x < -self.x_threshold\n",
      "            or x > self.x_threshold\n",
      "            or theta < -self.theta_threshold_radians\n",
      "            or theta > self.theta_threshold_radians\n",
      "        )\n",
      "\n",
      "        if not terminated:\n",
      "            reward = 1.0\n",
      "        elif self.steps_beyond_terminated is None:\n",
      "            # Pole just fell!\n",
      "            self.steps_beyond_terminated = 0\n",
      "            reward = 1.0\n",
      "        else:\n",
      "            if self.steps_beyond_terminated == 0:\n",
      "                logger.warn(\n",
      "                    \"You are calling 'step()' even though this \"\n",
      "                    \"environment has already returned terminated = True. You \"\n",
      "                    \"should always call 'reset()' once you receive 'terminated = \"\n",
      "                    \"True' -- any further steps are undefined behavior.\"\n",
      "                )\n",
      "            self.steps_beyond_terminated += 1\n",
      "            reward = 0.0\n",
      "\n",
      "        if self.render_mode == \"human\":\n",
      "            self.render()\n",
      "        return np.array(self.state, dtype=np.float32), reward, terminated, False, {}\n",
      "\n"
     ]
    }
   ],
   "source": [
    "print(inspect.getsource(CartPoleEnv.step))"
   ]
  },
  {
   "cell_type": "code",
   "execution_count": 8,
   "metadata": {},
   "outputs": [],
   "source": [
    "class CustomCartPoleEnv(CartPoleEnv):\n",
    "    def __init__(self, action_cost, **kwargs):\n",
    "        super().__init__(**kwargs)\n",
    "        self.action_space = gym.spaces.Discrete(3)\n",
    "        self.action_cost = action_cost\n",
    "\n",
    "    def step(self, action):\n",
    "        \n",
    "        if action == 2:    \n",
    "            x, x_dot, theta, theta_dot = self.state\n",
    "            force = self.force_mag if action == 1 else -self.force_mag\n",
    "            costheta = math.cos(theta)\n",
    "            sintheta = math.sin(theta)\n",
    "\n",
    "            # For the interested reader:\n",
    "            # https://coneural.org/florian/papers/05_cart_pole.pdf\n",
    "            temp = (\n",
    "                force + self.polemass_length * theta_dot**2 * sintheta\n",
    "            ) / self.total_mass\n",
    "            thetaacc = (self.gravity * sintheta - costheta * temp) / (\n",
    "                self.length * (4.0 / 3.0 - self.masspole * costheta**2 / self.total_mass)\n",
    "            )\n",
    "            \n",
    "            theta = theta + self.tau * theta_dot\n",
    "            theta_dot = theta_dot + self.tau * thetaacc\n",
    "            \n",
    "            self.state = (x, x_dot, theta, theta_dot)\n",
    "\n",
    "\n",
    "            terminated = bool(\n",
    "                x < -self.x_threshold\n",
    "                or x > self.x_threshold\n",
    "                or theta < -self.theta_threshold_radians\n",
    "                or theta > self.theta_threshold_radians\n",
    "            )\n",
    "\n",
    "            if not terminated:\n",
    "                reward = 1.0\n",
    "            elif self.steps_beyond_terminated is None:\n",
    "                # Pole just fell!\n",
    "                self.steps_beyond_terminated = 0\n",
    "                reward = 1.0\n",
    "            else:\n",
    "                if self.steps_beyond_terminated == 0:\n",
    "                    logger.warn(\n",
    "                        \"You are calling 'step()' even though this \"\n",
    "                        \"environment has already returned terminated = True. You \"\n",
    "                        \"should always call 'reset()' once you receive 'terminated = \"\n",
    "                        \"True' -- any further steps are undefined behavior.\"\n",
    "                    )\n",
    "                self.steps_beyond_terminated += 1\n",
    "                reward = 0.0\n",
    "\n",
    "            if self.render_mode == \"human\":\n",
    "                self.render()\n",
    "\n",
    "            return np.array(self.state, dtype=np.float32), reward, terminated, False, {}\n",
    "\n",
    "\n",
    "        else: # For other actions, use the original step functionality but add an additional cost\n",
    "            state, reward, terminated, _, _ = super().step(action)\n",
    "            reward -= self.action_cost\n",
    "            return state, reward, terminated, False, {}\n"
   ]
  },
  {
   "cell_type": "code",
   "execution_count": 9,
   "metadata": {},
   "outputs": [],
   "source": [
    "env = CustomCartPoleEnv(action_cost=0, render_mode='human')\n",
    "env.reset()\n",
    "env.render()"
   ]
  },
  {
   "cell_type": "code",
   "execution_count": 10,
   "metadata": {},
   "outputs": [
    {
     "name": "stdout",
     "output_type": "stream",
     "text": [
      "State Shape: (4,)\n",
      "Number of actions: 3\n"
     ]
    }
   ],
   "source": [
    "state_size = env.observation_space.shape\n",
    "num_actions = env.action_space.n\n",
    "\n",
    "print('State Shape:', state_size)\n",
    "print('Number of actions:', num_actions)"
   ]
  },
  {
   "cell_type": "markdown",
   "metadata": {},
   "source": [
    "Play with it !"
   ]
  },
  {
   "cell_type": "code",
   "execution_count": 11,
   "metadata": {},
   "outputs": [
    {
     "data": {
      "text/plain": [
       "(array([ 0.02485443, -0.20327727, -0.03418084,  0.25418973], dtype=float32),\n",
       " 1.0,\n",
       " False,\n",
       " False,\n",
       " {})"
      ]
     },
     "execution_count": 11,
     "metadata": {},
     "output_type": "execute_result"
    }
   ],
   "source": [
    "env.step(0)"
   ]
  },
  {
   "cell_type": "code",
   "execution_count": 12,
   "metadata": {},
   "outputs": [
    {
     "data": {
      "text/plain": [
       "(array([-0.03460748,  0.01496963,  0.02825262, -0.01299222], dtype=float32),\n",
       " {})"
      ]
     },
     "execution_count": 12,
     "metadata": {},
     "output_type": "execute_result"
    }
   ],
   "source": [
    "env.reset()"
   ]
  },
  {
   "cell_type": "code",
   "execution_count": 13,
   "metadata": {},
   "outputs": [],
   "source": [
    "env.close()"
   ]
  },
  {
   "cell_type": "markdown",
   "metadata": {},
   "source": [
    "### Find a deep RL solution for the new environment"
   ]
  },
  {
   "cell_type": "code",
   "execution_count": 55,
   "metadata": {},
   "outputs": [],
   "source": [
    "hidden_dim = 32           # Hidden dimension of the Q and target Q^ networks\n",
    "alpha = 1e-3              # Learning rate\n",
    "\n",
    "action_cost = 0.01       # Cost of moving the carter\n",
    "memory_size = 100_000     # Size of memory buffer\n",
    "gamma = 0.995             # Discount factor\n",
    "num_steps_for_update = 4  # Perform a learning update every C time steps\n",
    "minibatch_size = 64       # Mini-batch size\n",
    "epsilon = 1.0             # Initial ε value for ε-greedy policy\n",
    "eps_decay = 0.995         # ε-decay rate for the ε-greedy policy\n",
    "eps_min = 0.01            # Minimum ε value for the ε-greedy policy\n",
    "tau = 1e-3                # Soft update parameter\n",
    "num_episodes = 5000       # Total number of episodes\n",
    "max_num_timesteps = 1000  # Number of episodes per \"epoch\"\n",
    "num_p_av = 100            # Number of total points to use for averaging"
   ]
  },
  {
   "cell_type": "code",
   "execution_count": 56,
   "metadata": {},
   "outputs": [],
   "source": [
    "class QNetwork(nn.Module):\n",
    "    def __init__(self, state_size, num_actions):\n",
    "        super(QNetwork, self).__init__()\n",
    "        self.layer1 = nn.Linear(state_size, hidden_dim)\n",
    "        self.layer2 = nn.Linear(hidden_dim, hidden_dim)\n",
    "        self.layer3 = nn.Linear(hidden_dim, num_actions)\n",
    "\n",
    "    def forward(self, x):\n",
    "        x = torch.relu(self.layer1(x))\n",
    "        x = torch.relu(self.layer2(x))\n",
    "        x = self.layer3(x)\n",
    "        return x"
   ]
  },
  {
   "cell_type": "code",
   "execution_count": 57,
   "metadata": {},
   "outputs": [],
   "source": [
    "experience = namedtuple(\"Experience\", field_names=[\"state\", \"action\", \"reward\", \"next_state\", \"terminated\"])"
   ]
  },
  {
   "cell_type": "code",
   "execution_count": 58,
   "metadata": {},
   "outputs": [],
   "source": [
    "def compute_loss(experiences, gamma, q_network, target_q_network):\n",
    "\n",
    "    # Unpack the mini-batch of experience tuples\n",
    "    states, actions, rewards, next_states, terminated_vals = experiences\n",
    "\n",
    "    # Compute max Q^(s,a)\n",
    "    max_qsa = target_q_network(next_states).max(1)[0].detach()\n",
    "\n",
    "    # Set y = R if episode terminates, otherwise set y = R + γ max Q^(s,a)\n",
    "    y_targets = terminated_vals * rewards + (1 - terminated_vals) * (rewards + gamma * max_qsa)\n",
    "\n",
    "    # Get the q_values and reshape to match y_targets\n",
    "    q_values = q_network(states).gather(1, actions.long().unsqueeze(1)).squeeze(1)\n",
    "\n",
    "    # Compute the loss\n",
    "    loss = F.mse_loss(q_values, y_targets)\n",
    "\n",
    "    return loss"
   ]
  },
  {
   "cell_type": "code",
   "execution_count": 59,
   "metadata": {},
   "outputs": [],
   "source": [
    "def agent_learn(experiences, gamma, q_network, target_q_network, optimizer, tau=0.001):\n",
    "\n",
    "    # Calculate the loss\n",
    "    loss = compute_loss(experiences, gamma, q_network, target_q_network)\n",
    "\n",
    "    # Update the weights of the q_network\n",
    "    optimizer.zero_grad()\n",
    "    loss.backward()\n",
    "    optimizer.step()\n",
    "\n",
    "    # Soft update the weights of target q_network\n",
    "    utils.update_target_network(q_network, target_q_network, tau)\n"
   ]
  },
  {
   "cell_type": "code",
   "execution_count": 60,
   "metadata": {},
   "outputs": [],
   "source": [
    "# Intialize the environment\n",
    "env = CustomCartPoleEnv(action_cost=action_cost, render_mode='rgb_array')  # We switch back to this render mode so that the training is quicker\n",
    "env.reset()\n",
    "\n",
    "# Intialize neural networks and optimizer\n",
    "q_network = QNetwork(state_size[0], num_actions)\n",
    "target_q_network = QNetwork(state_size[0], num_actions)\n",
    "optimizer = AdamW(q_network.parameters(), lr=alpha)\n",
    "\n",
    "# Set the target Q^-network weights equal to the Q-Network weights\n",
    "utils.update_target_network(q_network, target_q_network, 1.0)"
   ]
  },
  {
   "cell_type": "code",
   "execution_count": 61,
   "metadata": {},
   "outputs": [
    {
     "name": "stdout",
     "output_type": "stream",
     "text": [
      "Episode 34 | Total point average of the last 100 episodes: 15.13"
     ]
    },
    {
     "name": "stdout",
     "output_type": "stream",
     "text": [
      "Episode 100 | Total point average of the last 100 episodes: 18.13\n",
      "Episode 200 | Total point average of the last 100 episodes: 15.21\n",
      "Episode 300 | Total point average of the last 100 episodes: 11.83\n",
      "Episode 400 | Total point average of the last 100 episodes: 10.90\n",
      "Episode 500 | Total point average of the last 100 episodes: 10.39\n",
      "Episode 600 | Total point average of the last 100 episodes: 10.06\n",
      "Episode 700 | Total point average of the last 100 episodes: 9.731\n",
      "Episode 800 | Total point average of the last 100 episodes: 9.46\n",
      "Episode 900 | Total point average of the last 100 episodes: 9.61\n",
      "Episode 1000 | Total point average of the last 100 episodes: 9.56\n",
      "Episode 1100 | Total point average of the last 100 episodes: 9.60\n",
      "Episode 1200 | Total point average of the last 100 episodes: 10.71\n",
      "Episode 1300 | Total point average of the last 100 episodes: 9.941\n",
      "Episode 1400 | Total point average of the last 100 episodes: 14.95\n",
      "Episode 1500 | Total point average of the last 100 episodes: 21.47\n",
      "Episode 1600 | Total point average of the last 100 episodes: 96.08\n",
      "Episode 1700 | Total point average of the last 100 episodes: 111.62\n",
      "Episode 1800 | Total point average of the last 100 episodes: 107.87\n",
      "Episode 1900 | Total point average of the last 100 episodes: 92.971\n",
      "Episode 2000 | Total point average of the last 100 episodes: 88.47\n",
      "Episode 2100 | Total point average of the last 100 episodes: 93.48\n",
      "Episode 2200 | Total point average of the last 100 episodes: 111.68\n",
      "Episode 2300 | Total point average of the last 100 episodes: 91.492\n",
      "Episode 2400 | Total point average of the last 100 episodes: 105.48\n",
      "Episode 2500 | Total point average of the last 100 episodes: 106.34\n",
      "Episode 2600 | Total point average of the last 100 episodes: 86.793\n",
      "Episode 2700 | Total point average of the last 100 episodes: 86.97\n",
      "Episode 2800 | Total point average of the last 100 episodes: 92.32\n",
      "Episode 2900 | Total point average of the last 100 episodes: 89.74\n",
      "Episode 3000 | Total point average of the last 100 episodes: 91.796\n",
      "Episode 3100 | Total point average of the last 100 episodes: 49.79\n",
      "Episode 3200 | Total point average of the last 100 episodes: 121.62\n",
      "Episode 3300 | Total point average of the last 100 episodes: 163.36\n",
      "Episode 3400 | Total point average of the last 100 episodes: 199.60\n",
      "Episode 3500 | Total point average of the last 100 episodes: 219.84\n",
      "Episode 3600 | Total point average of the last 100 episodes: 333.37\n",
      "Episode 3700 | Total point average of the last 100 episodes: 457.07\n",
      "Episode 3735 | Total point average of the last 100 episodes: 503.02\n",
      "\n",
      "Environment solved in 3735 episodes!\n",
      "\n",
      "Total Runtime: 151.60 s (2.53 min)\n"
     ]
    }
   ],
   "source": [
    "start = time.time()\n",
    "\n",
    "total_point_history = []\n",
    "memory_buffer = deque(maxlen=memory_size)\n",
    "\n",
    "for i in range(num_episodes):\n",
    "\n",
    "    state = env.reset()[0]\n",
    "    total_points = 0\n",
    "    \n",
    "    for t in range(max_num_timesteps):\n",
    "        \n",
    "        # From the current state S choose an action A using an ε-greedy policy\n",
    "        state_qn = torch.from_numpy(np.expand_dims(state, axis=0)).float()  # state needs to be the right shape for the q_network\n",
    "        q_values = q_network(state_qn)\n",
    "        action = utils.get_action(q_values, num_actions, epsilon)\n",
    "        \n",
    "        # Take action A and receive reward R and the next state S'\n",
    "        next_state, reward, terminated, _, _ = env.step(action)\n",
    "        \n",
    "        # Store experience tuple (S,A,R,S') in the memory buffer.\n",
    "        # We store the terminated variable as well for convenience.\n",
    "        memory_buffer.append(experience(state, action, reward, next_state, terminated))\n",
    "        \n",
    "        # Only update the network every num_steps_for_update time steps.\n",
    "        update = utils.check_update_conditions(t, num_steps_for_update, memory_buffer, minibatch_size)\n",
    "        \n",
    "        if update:\n",
    "            # Sample random mini-batch of experience tuples (S,A,R,S') from D\n",
    "            experiences = utils.get_experiences(memory_buffer, minibatch_size)\n",
    "            \n",
    "            # Set the y targets, perform a gradient descent step,\n",
    "            # and update the network weights.\n",
    "            agent_learn(experiences, gamma, q_network, target_q_network, optimizer, tau)\n",
    "        \n",
    "        state = next_state.copy()\n",
    "        total_points += reward\n",
    "        \n",
    "        if terminated:\n",
    "            break\n",
    "            \n",
    "    total_point_history.append(total_points)\n",
    "    av_latest_points = np.mean(total_point_history[-num_p_av:])\n",
    "    \n",
    "    # Update the ε value\n",
    "    epsilon = utils.get_new_eps(epsilon, eps_min, eps_decay)\n",
    "\n",
    "    print(f\"\\rEpisode {i+1} | Total point average of the last {num_p_av} episodes: {av_latest_points:.2f}\", end=\"\")\n",
    "\n",
    "    if (i+1) % num_p_av == 0:\n",
    "        print(f\"\\rEpisode {i+1} | Total point average of the last {num_p_av} episodes: {av_latest_points:.2f}\")\n",
    "\n",
    "    # We will consider that the environment is solved if we get an\n",
    "    # average of 500 points in the last 100 episodes i.e. the carter\n",
    "    # maintains the pole for 5 seconds (if we don't take into account the action costs).\n",
    "    if av_latest_points >= 500.0:\n",
    "        print(f\"\\n\\nEnvironment solved in {i+1} episodes!\")\n",
    "        torch.save(q_network.state_dict(), 'cartpole_model.pth')\n",
    "        break\n",
    "\n",
    "tot_time = time.time() - start\n",
    "print(f\"\\nTotal Runtime: {tot_time:.2f} s ({(tot_time/60):.2f} min)\")"
   ]
  },
  {
   "cell_type": "markdown",
   "metadata": {},
   "source": [
    "Adding a cost to actions that move the carter, provided we choose a small enough value, tends to make the learning process more linear and stable ! Indeed, it effectively restrains the exploration of the agent by giving it a bias towards inaction, which should be the optimal strategy."
   ]
  },
  {
   "cell_type": "code",
   "execution_count": 62,
   "metadata": {},
   "outputs": [],
   "source": [
    "env.close()"
   ]
  },
  {
   "cell_type": "code",
   "execution_count": 63,
   "metadata": {},
   "outputs": [
    {
     "data": {
      "image/png": "[encoded data removed]",
      "text/plain": [
       "<Figure size 1000x700 with 1 Axes>"
      ]
     },
     "metadata": {},
     "output_type": "display_data"
    }
   ],
   "source": [
    "# Plot the total point history along with the moving average\n",
    "utils.plot_history(total_point_history)"
   ]
  },
  {
   "cell_type": "markdown",
   "metadata": {},
   "source": [
    "### See the Trained Agent In Action"
   ]
  },
  {
   "cell_type": "code",
   "execution_count": 65,
   "metadata": {},
   "outputs": [],
   "source": [
    "env = CustomCartPoleEnv(action_cost=action_cost, render_mode='human')\n",
    "state = env.reset()[0]\n",
    "env.render()"
   ]
  },
  {
   "cell_type": "code",
   "execution_count": 66,
   "metadata": {},
   "outputs": [],
   "source": [
    "# Try to put the carter in a bad spot at the start by executing this cell several times !\n",
    "#env.step(0)"
   ]
  },
  {
   "cell_type": "code",
   "execution_count": 67,
   "metadata": {},
   "outputs": [],
   "source": [
    "max_updates = 500\n",
    "\n",
    "for _ in range(max_updates):\n",
    "    state = torch.from_numpy(np.expand_dims(state, axis=0)).float()\n",
    "    q_values = q_network(state)\n",
    "    action = torch.argmax(q_values[0]).item()\n",
    "    state, _, _, _, _ = env.step(action)"
   ]
  },
  {
   "cell_type": "code",
   "execution_count": 69,
   "metadata": {},
   "outputs": [],
   "source": [
    "#env.close()"
   ]
  }
 ],
 "metadata": {
  "kernelspec": {
   "display_name": "cartpole",
   "language": "python",
   "name": "python3"
  },
  "language_info": {
   "codemirror_mode": {
    "name": "ipython",
    "version": 3
   },
   "file_extension": ".py",
   "mimetype": "text/x-python",
   "name": "python",
   "nbconvert_exporter": "python",
   "pygments_lexer": "ipython3",
   "version": "3.11.6"
  }
 },
 "nbformat": 4,
 "nbformat_minor": 2
}
